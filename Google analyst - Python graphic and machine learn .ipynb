{
 "cells": [
  {
   "cell_type": "code",
   "execution_count": 245,
   "id": "9f3516c4",
   "metadata": {},
   "outputs": [],
   "source": [
    "import pandas as pd\n",
    "import seaborn as sns\n",
    "import matplotlib.pyplot as plt\n",
    "import numpy as np\n",
    "from sklearn.neighbors import KNeighborsClassifier\n",
    "from sklearn.model_selection import train_test_split\n",
    "from sklearn.linear_model import LinearRegression\n",
    "from sklearn.metrics import mean_squared_error\n",
    "from sklearn.linear_model import Lasso\n",
    "from sklearn import datasets, linear_model"
   ]
  },
  {
   "cell_type": "code",
   "execution_count": null,
   "id": "d1dda0f8",
   "metadata": {},
   "outputs": [],
   "source": [
    "# Before we Begin:\n",
    "# Gorilla Gadgets is one of the middle size ecommerce business in USA. The major platform is Amazon, Walmart, Google, Shopfity.\n",
    "# In this topic we will going to discuss the user behoviar from our website traffic. The source is get it from google analytics. \n",
    "# The day is between Aug 1,2021 to Sep 6 2021. We will use some machine learn and graphic to analysit the user behavior. "
   ]
  },
  {
   "cell_type": "code",
   "execution_count": null,
   "id": "d0a0a0f2",
   "metadata": {},
   "outputs": [],
   "source": [
    "# We have to imporve data from CSV file\n",
    "# Since google analytics only us download one file with 5000 row in one time, we have to download twict"
   ]
  },
  {
   "cell_type": "code",
   "execution_count": 16,
   "id": "848c007a",
   "metadata": {},
   "outputs": [],
   "source": [
    "file_1 = 'Analytics Gorilla Gadgets User Explorer 20210801-20210906.csv'\n",
    "file_2 = 'Analytics Gorilla Gadgets User Explorer 20210801-20210906_2.csv'"
   ]
  },
  {
   "cell_type": "code",
   "execution_count": 17,
   "id": "68cd3b4b",
   "metadata": {},
   "outputs": [],
   "source": [
    "#We have to skip some rows because this rows is not necessary to use "
   ]
  },
  {
   "cell_type": "code",
   "execution_count": 77,
   "id": "9a84721d",
   "metadata": {},
   "outputs": [],
   "source": [
    "df1= pd.read_csv(file_1,skiprows=6)"
   ]
  },
  {
   "cell_type": "code",
   "execution_count": 78,
   "id": "f2ac48c7",
   "metadata": {},
   "outputs": [],
   "source": [
    "df2= pd.read_csv(file_2,skiprows=6)"
   ]
  },
  {
   "cell_type": "code",
   "execution_count": 79,
   "id": "50c3039e",
   "metadata": {},
   "outputs": [],
   "source": [
    "File = pd.concat([df1,df2])"
   ]
  },
  {
   "cell_type": "code",
   "execution_count": 26,
   "id": "570fc28a",
   "metadata": {},
   "outputs": [],
   "source": [
    "#Now check out front data"
   ]
  },
  {
   "cell_type": "code",
   "execution_count": 27,
   "id": "02197d3f",
   "metadata": {},
   "outputs": [
    {
     "data": {
      "text/html": [
       "<div>\n",
       "<style scoped>\n",
       "    .dataframe tbody tr th:only-of-type {\n",
       "        vertical-align: middle;\n",
       "    }\n",
       "\n",
       "    .dataframe tbody tr th {\n",
       "        vertical-align: top;\n",
       "    }\n",
       "\n",
       "    .dataframe thead th {\n",
       "        text-align: right;\n",
       "    }\n",
       "</style>\n",
       "<table border=\"1\" class=\"dataframe\">\n",
       "  <thead>\n",
       "    <tr style=\"text-align: right;\">\n",
       "      <th></th>\n",
       "      <th>Client Id</th>\n",
       "      <th>Sessions</th>\n",
       "      <th>Avg. Session Duration</th>\n",
       "      <th>Bounce Rate</th>\n",
       "      <th>Revenue</th>\n",
       "      <th>Transactions</th>\n",
       "      <th>Goal Conversion Rate</th>\n",
       "    </tr>\n",
       "  </thead>\n",
       "  <tbody>\n",
       "    <tr>\n",
       "      <th>0</th>\n",
       "      <td>1.875999e+09</td>\n",
       "      <td>62</td>\n",
       "      <td>00:05:49</td>\n",
       "      <td>12.90%</td>\n",
       "      <td>$0.00</td>\n",
       "      <td>0</td>\n",
       "      <td>6.45%</td>\n",
       "    </tr>\n",
       "    <tr>\n",
       "      <th>1</th>\n",
       "      <td>1.862998e+09</td>\n",
       "      <td>60</td>\n",
       "      <td>00:07:51</td>\n",
       "      <td>35.00%</td>\n",
       "      <td>$0.00</td>\n",
       "      <td>0</td>\n",
       "      <td>18.33%</td>\n",
       "    </tr>\n",
       "    <tr>\n",
       "      <th>2</th>\n",
       "      <td>1.918920e+09</td>\n",
       "      <td>41</td>\n",
       "      <td>00:07:31</td>\n",
       "      <td>4.88%</td>\n",
       "      <td>$0.00</td>\n",
       "      <td>0</td>\n",
       "      <td>12.20%</td>\n",
       "    </tr>\n",
       "    <tr>\n",
       "      <th>3</th>\n",
       "      <td>1.456576e+09</td>\n",
       "      <td>27</td>\n",
       "      <td>00:04:46</td>\n",
       "      <td>37.04%</td>\n",
       "      <td>$0.00</td>\n",
       "      <td>0</td>\n",
       "      <td>14.81%</td>\n",
       "    </tr>\n",
       "    <tr>\n",
       "      <th>4</th>\n",
       "      <td>1.212341e+09</td>\n",
       "      <td>23</td>\n",
       "      <td>00:04:34</td>\n",
       "      <td>69.57%</td>\n",
       "      <td>$15.65</td>\n",
       "      <td>1</td>\n",
       "      <td>8.70%</td>\n",
       "    </tr>\n",
       "  </tbody>\n",
       "</table>\n",
       "</div>"
      ],
      "text/plain": [
       "      Client Id  Sessions Avg. Session Duration Bounce Rate Revenue  \\\n",
       "0  1.875999e+09        62              00:05:49      12.90%   $0.00   \n",
       "1  1.862998e+09        60              00:07:51      35.00%   $0.00   \n",
       "2  1.918920e+09        41              00:07:31       4.88%   $0.00   \n",
       "3  1.456576e+09        27              00:04:46      37.04%   $0.00   \n",
       "4  1.212341e+09        23              00:04:34      69.57%  $15.65   \n",
       "\n",
       "   Transactions Goal Conversion Rate  \n",
       "0             0                6.45%  \n",
       "1             0               18.33%  \n",
       "2             0               12.20%  \n",
       "3             0               14.81%  \n",
       "4             1                8.70%  "
      ]
     },
     "execution_count": 27,
     "metadata": {},
     "output_type": "execute_result"
    }
   ],
   "source": [
    "File.head()"
   ]
  },
  {
   "cell_type": "code",
   "execution_count": 28,
   "id": "e6f52c4b",
   "metadata": {},
   "outputs": [],
   "source": [
    "#check out the back data"
   ]
  },
  {
   "cell_type": "code",
   "execution_count": 24,
   "id": "2550aa8f",
   "metadata": {},
   "outputs": [
    {
     "data": {
      "text/html": [
       "<div>\n",
       "<style scoped>\n",
       "    .dataframe tbody tr th:only-of-type {\n",
       "        vertical-align: middle;\n",
       "    }\n",
       "\n",
       "    .dataframe tbody tr th {\n",
       "        vertical-align: top;\n",
       "    }\n",
       "\n",
       "    .dataframe thead th {\n",
       "        text-align: right;\n",
       "    }\n",
       "</style>\n",
       "<table border=\"1\" class=\"dataframe\">\n",
       "  <thead>\n",
       "    <tr style=\"text-align: right;\">\n",
       "      <th></th>\n",
       "      <th>Client Id</th>\n",
       "      <th>Sessions</th>\n",
       "      <th>Avg. Session Duration</th>\n",
       "      <th>Bounce Rate</th>\n",
       "      <th>Revenue</th>\n",
       "      <th>Transactions</th>\n",
       "      <th>Goal Conversion Rate</th>\n",
       "    </tr>\n",
       "  </thead>\n",
       "  <tbody>\n",
       "    <tr>\n",
       "      <th>0</th>\n",
       "      <td>1.875999e+09</td>\n",
       "      <td>62</td>\n",
       "      <td>00:05:49</td>\n",
       "      <td>12.90%</td>\n",
       "      <td>$0.00</td>\n",
       "      <td>0</td>\n",
       "      <td>6.45%</td>\n",
       "    </tr>\n",
       "    <tr>\n",
       "      <th>1</th>\n",
       "      <td>1.862998e+09</td>\n",
       "      <td>60</td>\n",
       "      <td>00:07:51</td>\n",
       "      <td>35.00%</td>\n",
       "      <td>$0.00</td>\n",
       "      <td>0</td>\n",
       "      <td>18.33%</td>\n",
       "    </tr>\n",
       "    <tr>\n",
       "      <th>2</th>\n",
       "      <td>1.918920e+09</td>\n",
       "      <td>41</td>\n",
       "      <td>00:07:31</td>\n",
       "      <td>4.88%</td>\n",
       "      <td>$0.00</td>\n",
       "      <td>0</td>\n",
       "      <td>12.20%</td>\n",
       "    </tr>\n",
       "    <tr>\n",
       "      <th>3</th>\n",
       "      <td>1.456576e+09</td>\n",
       "      <td>27</td>\n",
       "      <td>00:04:46</td>\n",
       "      <td>37.04%</td>\n",
       "      <td>$0.00</td>\n",
       "      <td>0</td>\n",
       "      <td>14.81%</td>\n",
       "    </tr>\n",
       "    <tr>\n",
       "      <th>4</th>\n",
       "      <td>1.212341e+09</td>\n",
       "      <td>23</td>\n",
       "      <td>00:04:34</td>\n",
       "      <td>69.57%</td>\n",
       "      <td>$15.65</td>\n",
       "      <td>1</td>\n",
       "      <td>8.70%</td>\n",
       "    </tr>\n",
       "    <tr>\n",
       "      <th>...</th>\n",
       "      <td>...</td>\n",
       "      <td>...</td>\n",
       "      <td>...</td>\n",
       "      <td>...</td>\n",
       "      <td>...</td>\n",
       "      <td>...</td>\n",
       "      <td>...</td>\n",
       "    </tr>\n",
       "    <tr>\n",
       "      <th>4990</th>\n",
       "      <td>4.869987e+08</td>\n",
       "      <td>1</td>\n",
       "      <td>00:00:00</td>\n",
       "      <td>100.00%</td>\n",
       "      <td>$0.00</td>\n",
       "      <td>0</td>\n",
       "      <td>0.00%</td>\n",
       "    </tr>\n",
       "    <tr>\n",
       "      <th>4991</th>\n",
       "      <td>4.870444e+08</td>\n",
       "      <td>1</td>\n",
       "      <td>00:00:09</td>\n",
       "      <td>0.00%</td>\n",
       "      <td>$0.00</td>\n",
       "      <td>0</td>\n",
       "      <td>0.00%</td>\n",
       "    </tr>\n",
       "    <tr>\n",
       "      <th>4992</th>\n",
       "      <td>4.871328e+08</td>\n",
       "      <td>1</td>\n",
       "      <td>00:00:00</td>\n",
       "      <td>100.00%</td>\n",
       "      <td>$0.00</td>\n",
       "      <td>0</td>\n",
       "      <td>0.00%</td>\n",
       "    </tr>\n",
       "    <tr>\n",
       "      <th>4993</th>\n",
       "      <td>4.871615e+07</td>\n",
       "      <td>1</td>\n",
       "      <td>00:00:00</td>\n",
       "      <td>100.00%</td>\n",
       "      <td>$0.00</td>\n",
       "      <td>0</td>\n",
       "      <td>0.00%</td>\n",
       "    </tr>\n",
       "    <tr>\n",
       "      <th>4994</th>\n",
       "      <td>4.871894e+08</td>\n",
       "      <td>1</td>\n",
       "      <td>00:00:00</td>\n",
       "      <td>100.00%</td>\n",
       "      <td>$0.00</td>\n",
       "      <td>0</td>\n",
       "      <td>0.00%</td>\n",
       "    </tr>\n",
       "  </tbody>\n",
       "</table>\n",
       "<p>9995 rows × 7 columns</p>\n",
       "</div>"
      ],
      "text/plain": [
       "         Client Id  Sessions Avg. Session Duration Bounce Rate Revenue  \\\n",
       "0     1.875999e+09        62              00:05:49      12.90%   $0.00   \n",
       "1     1.862998e+09        60              00:07:51      35.00%   $0.00   \n",
       "2     1.918920e+09        41              00:07:31       4.88%   $0.00   \n",
       "3     1.456576e+09        27              00:04:46      37.04%   $0.00   \n",
       "4     1.212341e+09        23              00:04:34      69.57%  $15.65   \n",
       "...            ...       ...                   ...         ...     ...   \n",
       "4990  4.869987e+08         1              00:00:00     100.00%   $0.00   \n",
       "4991  4.870444e+08         1              00:00:09       0.00%   $0.00   \n",
       "4992  4.871328e+08         1              00:00:00     100.00%   $0.00   \n",
       "4993  4.871615e+07         1              00:00:00     100.00%   $0.00   \n",
       "4994  4.871894e+08         1              00:00:00     100.00%   $0.00   \n",
       "\n",
       "      Transactions Goal Conversion Rate  \n",
       "0                0                6.45%  \n",
       "1                0               18.33%  \n",
       "2                0               12.20%  \n",
       "3                0               14.81%  \n",
       "4                1                8.70%  \n",
       "...            ...                  ...  \n",
       "4990             0                0.00%  \n",
       "4991             0                0.00%  \n",
       "4992             0                0.00%  \n",
       "4993             0                0.00%  \n",
       "4994             0                0.00%  \n",
       "\n",
       "[9995 rows x 7 columns]"
      ]
     },
     "execution_count": 24,
     "metadata": {},
     "output_type": "execute_result"
    }
   ],
   "source": [
    "File.head(-5)"
   ]
  },
  {
   "cell_type": "code",
   "execution_count": null,
   "id": "c4d27374",
   "metadata": {},
   "outputs": [],
   "source": [
    "#There are 9995 rows in the file. We should get 10001 rows We should check out any missvalue"
   ]
  },
  {
   "cell_type": "code",
   "execution_count": 29,
   "id": "98521be4",
   "metadata": {},
   "outputs": [
    {
     "data": {
      "text/plain": [
       "(10000, 7)"
      ]
     },
     "execution_count": 29,
     "metadata": {},
     "output_type": "execute_result"
    }
   ],
   "source": [
    "File.shape"
   ]
  },
  {
   "cell_type": "code",
   "execution_count": null,
   "id": "91edd96d",
   "metadata": {},
   "outputs": [],
   "source": [
    "#This is good we did not see any miss value in data file"
   ]
  },
  {
   "cell_type": "code",
   "execution_count": 30,
   "id": "24d322ce",
   "metadata": {},
   "outputs": [
    {
     "data": {
      "text/plain": [
       "<AxesSubplot:xlabel='index'>"
      ]
     },
     "execution_count": 30,
     "metadata": {},
     "output_type": "execute_result"
    },
    {
     "data": {
      "image/png": "[encoded data removed]",
      "text/plain": [
       "<Figure size 432x288 with 1 Axes>"
      ]
     },
     "metadata": {
      "needs_background": "light"
     },
     "output_type": "display_data"
    }
   ],
   "source": [
    "File.isna().sum().reset_index(name=\"n\").plot.bar(x='index', y='n', rot=50)"
   ]
  },
  {
   "cell_type": "code",
   "execution_count": null,
   "id": "a3ce51d5",
   "metadata": {},
   "outputs": [],
   "source": [
    "#Now we want to find out how many difference kind of season in the file"
   ]
  },
  {
   "cell_type": "code",
   "execution_count": 33,
   "id": "53c0b013",
   "metadata": {},
   "outputs": [],
   "source": [
    "N_Sensions = File.groupby('Sessions').size().to_frame('N_time_sessions').reset_index()"
   ]
  },
  {
   "cell_type": "code",
   "execution_count": 34,
   "id": "d73247cb",
   "metadata": {},
   "outputs": [
    {
     "data": {
      "text/html": [
       "<div>\n",
       "<style scoped>\n",
       "    .dataframe tbody tr th:only-of-type {\n",
       "        vertical-align: middle;\n",
       "    }\n",
       "\n",
       "    .dataframe tbody tr th {\n",
       "        vertical-align: top;\n",
       "    }\n",
       "\n",
       "    .dataframe thead th {\n",
       "        text-align: right;\n",
       "    }\n",
       "</style>\n",
       "<table border=\"1\" class=\"dataframe\">\n",
       "  <thead>\n",
       "    <tr style=\"text-align: right;\">\n",
       "      <th></th>\n",
       "      <th>Sessions</th>\n",
       "      <th>N_time_sessions</th>\n",
       "    </tr>\n",
       "  </thead>\n",
       "  <tbody>\n",
       "    <tr>\n",
       "      <th>0</th>\n",
       "      <td>1</td>\n",
       "      <td>8377</td>\n",
       "    </tr>\n",
       "    <tr>\n",
       "      <th>1</th>\n",
       "      <td>2</td>\n",
       "      <td>1119</td>\n",
       "    </tr>\n",
       "    <tr>\n",
       "      <th>2</th>\n",
       "      <td>3</td>\n",
       "      <td>272</td>\n",
       "    </tr>\n",
       "    <tr>\n",
       "      <th>3</th>\n",
       "      <td>4</td>\n",
       "      <td>100</td>\n",
       "    </tr>\n",
       "    <tr>\n",
       "      <th>4</th>\n",
       "      <td>5</td>\n",
       "      <td>49</td>\n",
       "    </tr>\n",
       "    <tr>\n",
       "      <th>5</th>\n",
       "      <td>6</td>\n",
       "      <td>23</td>\n",
       "    </tr>\n",
       "    <tr>\n",
       "      <th>6</th>\n",
       "      <td>7</td>\n",
       "      <td>12</td>\n",
       "    </tr>\n",
       "    <tr>\n",
       "      <th>7</th>\n",
       "      <td>8</td>\n",
       "      <td>16</td>\n",
       "    </tr>\n",
       "    <tr>\n",
       "      <th>8</th>\n",
       "      <td>9</td>\n",
       "      <td>2</td>\n",
       "    </tr>\n",
       "    <tr>\n",
       "      <th>9</th>\n",
       "      <td>10</td>\n",
       "      <td>5</td>\n",
       "    </tr>\n",
       "    <tr>\n",
       "      <th>10</th>\n",
       "      <td>11</td>\n",
       "      <td>3</td>\n",
       "    </tr>\n",
       "    <tr>\n",
       "      <th>11</th>\n",
       "      <td>12</td>\n",
       "      <td>5</td>\n",
       "    </tr>\n",
       "    <tr>\n",
       "      <th>12</th>\n",
       "      <td>13</td>\n",
       "      <td>2</td>\n",
       "    </tr>\n",
       "    <tr>\n",
       "      <th>13</th>\n",
       "      <td>15</td>\n",
       "      <td>1</td>\n",
       "    </tr>\n",
       "    <tr>\n",
       "      <th>14</th>\n",
       "      <td>16</td>\n",
       "      <td>1</td>\n",
       "    </tr>\n",
       "    <tr>\n",
       "      <th>15</th>\n",
       "      <td>17</td>\n",
       "      <td>1</td>\n",
       "    </tr>\n",
       "    <tr>\n",
       "      <th>16</th>\n",
       "      <td>18</td>\n",
       "      <td>1</td>\n",
       "    </tr>\n",
       "    <tr>\n",
       "      <th>17</th>\n",
       "      <td>19</td>\n",
       "      <td>2</td>\n",
       "    </tr>\n",
       "    <tr>\n",
       "      <th>18</th>\n",
       "      <td>20</td>\n",
       "      <td>2</td>\n",
       "    </tr>\n",
       "    <tr>\n",
       "      <th>19</th>\n",
       "      <td>22</td>\n",
       "      <td>1</td>\n",
       "    </tr>\n",
       "    <tr>\n",
       "      <th>20</th>\n",
       "      <td>23</td>\n",
       "      <td>2</td>\n",
       "    </tr>\n",
       "    <tr>\n",
       "      <th>21</th>\n",
       "      <td>27</td>\n",
       "      <td>1</td>\n",
       "    </tr>\n",
       "    <tr>\n",
       "      <th>22</th>\n",
       "      <td>41</td>\n",
       "      <td>1</td>\n",
       "    </tr>\n",
       "    <tr>\n",
       "      <th>23</th>\n",
       "      <td>60</td>\n",
       "      <td>1</td>\n",
       "    </tr>\n",
       "    <tr>\n",
       "      <th>24</th>\n",
       "      <td>62</td>\n",
       "      <td>1</td>\n",
       "    </tr>\n",
       "  </tbody>\n",
       "</table>\n",
       "</div>"
      ],
      "text/plain": [
       "    Sessions  N_time_sessions\n",
       "0          1             8377\n",
       "1          2             1119\n",
       "2          3              272\n",
       "3          4              100\n",
       "4          5               49\n",
       "5          6               23\n",
       "6          7               12\n",
       "7          8               16\n",
       "8          9                2\n",
       "9         10                5\n",
       "10        11                3\n",
       "11        12                5\n",
       "12        13                2\n",
       "13        15                1\n",
       "14        16                1\n",
       "15        17                1\n",
       "16        18                1\n",
       "17        19                2\n",
       "18        20                2\n",
       "19        22                1\n",
       "20        23                2\n",
       "21        27                1\n",
       "22        41                1\n",
       "23        60                1\n",
       "24        62                1"
      ]
     },
     "execution_count": 34,
     "metadata": {},
     "output_type": "execute_result"
    }
   ],
   "source": [
    "N_Sensions"
   ]
  },
  {
   "cell_type": "code",
   "execution_count": 46,
   "id": "18faec16",
   "metadata": {},
   "outputs": [
    {
     "data": {
      "text/plain": [
       "Text(0, 0.5, 'Frequency')"
      ]
     },
     "execution_count": 46,
     "metadata": {},
     "output_type": "execute_result"
    },
    {
     "data": {
      "image/png": "[encoded data removed]",
      "text/plain": [
       "<Figure size 432x288 with 1 Axes>"
      ]
     },
     "metadata": {
      "needs_background": "light"
     },
     "output_type": "display_data"
    }
   ],
   "source": [
    "plt.bar(N_Sensions.Sessions,N_Sensions.N_time_sessions,align='center')\n",
    "plt.xlabel('Sessions')\n",
    "plt.ylabel('Frequency')"
   ]
  },
  {
   "cell_type": "code",
   "execution_count": null,
   "id": "3b5568dd",
   "metadata": {},
   "outputs": [],
   "source": [
    "#Can we can see the most frequency buyer are Seassons 1 and Seasson 2"
   ]
  },
  {
   "cell_type": "code",
   "execution_count": 80,
   "id": "437c88f8",
   "metadata": {},
   "outputs": [
    {
     "data": {
      "text/plain": [
       "dtype('O')"
      ]
     },
     "execution_count": 80,
     "metadata": {},
     "output_type": "execute_result"
    }
   ],
   "source": [
    "File.Revenue.dtypes"
   ]
  },
  {
   "cell_type": "code",
   "execution_count": null,
   "id": "c8ec25ac",
   "metadata": {},
   "outputs": [],
   "source": [
    "#we Have to check out the Renvenus type"
   ]
  },
  {
   "cell_type": "code",
   "execution_count": 88,
   "id": "88091f3f",
   "metadata": {},
   "outputs": [],
   "source": [
    "File['Revenue']= File.Revenue.astype(str)"
   ]
  },
  {
   "cell_type": "code",
   "execution_count": 89,
   "id": "4580511b",
   "metadata": {},
   "outputs": [
    {
     "data": {
      "text/plain": [
       "dtype('O')"
      ]
     },
     "execution_count": 89,
     "metadata": {},
     "output_type": "execute_result"
    }
   ],
   "source": [
    "File.Revenue.dtypes"
   ]
  },
  {
   "cell_type": "code",
   "execution_count": 109,
   "id": "895ed106",
   "metadata": {},
   "outputs": [],
   "source": [
    "File['Revenue']= File.Revenue.str.replace('$','',regex=True)"
   ]
  },
  {
   "cell_type": "code",
   "execution_count": 129,
   "id": "b9bcb30f",
   "metadata": {},
   "outputs": [],
   "source": [
    "T_S = File.groupby('Sessions').agg(n_Transactions=('Transactions','sum'),n_Sessions=('Sessions','size')).reset_index()"
   ]
  },
  {
   "cell_type": "code",
   "execution_count": 131,
   "id": "34faa024",
   "metadata": {},
   "outputs": [
    {
     "data": {
      "text/html": [
       "<div>\n",
       "<style scoped>\n",
       "    .dataframe tbody tr th:only-of-type {\n",
       "        vertical-align: middle;\n",
       "    }\n",
       "\n",
       "    .dataframe tbody tr th {\n",
       "        vertical-align: top;\n",
       "    }\n",
       "\n",
       "    .dataframe thead th {\n",
       "        text-align: right;\n",
       "    }\n",
       "</style>\n",
       "<table border=\"1\" class=\"dataframe\">\n",
       "  <thead>\n",
       "    <tr style=\"text-align: right;\">\n",
       "      <th></th>\n",
       "      <th>Sessions</th>\n",
       "      <th>n_Transactions</th>\n",
       "      <th>n_Sessions</th>\n",
       "    </tr>\n",
       "  </thead>\n",
       "  <tbody>\n",
       "    <tr>\n",
       "      <th>0</th>\n",
       "      <td>1</td>\n",
       "      <td>185</td>\n",
       "      <td>8377</td>\n",
       "    </tr>\n",
       "    <tr>\n",
       "      <th>1</th>\n",
       "      <td>2</td>\n",
       "      <td>119</td>\n",
       "      <td>1119</td>\n",
       "    </tr>\n",
       "    <tr>\n",
       "      <th>2</th>\n",
       "      <td>3</td>\n",
       "      <td>54</td>\n",
       "      <td>272</td>\n",
       "    </tr>\n",
       "    <tr>\n",
       "      <th>3</th>\n",
       "      <td>4</td>\n",
       "      <td>19</td>\n",
       "      <td>100</td>\n",
       "    </tr>\n",
       "    <tr>\n",
       "      <th>4</th>\n",
       "      <td>5</td>\n",
       "      <td>16</td>\n",
       "      <td>49</td>\n",
       "    </tr>\n",
       "    <tr>\n",
       "      <th>5</th>\n",
       "      <td>6</td>\n",
       "      <td>10</td>\n",
       "      <td>23</td>\n",
       "    </tr>\n",
       "    <tr>\n",
       "      <th>6</th>\n",
       "      <td>7</td>\n",
       "      <td>3</td>\n",
       "      <td>12</td>\n",
       "    </tr>\n",
       "    <tr>\n",
       "      <th>7</th>\n",
       "      <td>8</td>\n",
       "      <td>0</td>\n",
       "      <td>16</td>\n",
       "    </tr>\n",
       "    <tr>\n",
       "      <th>8</th>\n",
       "      <td>9</td>\n",
       "      <td>1</td>\n",
       "      <td>2</td>\n",
       "    </tr>\n",
       "    <tr>\n",
       "      <th>9</th>\n",
       "      <td>10</td>\n",
       "      <td>1</td>\n",
       "      <td>5</td>\n",
       "    </tr>\n",
       "    <tr>\n",
       "      <th>10</th>\n",
       "      <td>11</td>\n",
       "      <td>1</td>\n",
       "      <td>3</td>\n",
       "    </tr>\n",
       "    <tr>\n",
       "      <th>11</th>\n",
       "      <td>12</td>\n",
       "      <td>3</td>\n",
       "      <td>5</td>\n",
       "    </tr>\n",
       "    <tr>\n",
       "      <th>12</th>\n",
       "      <td>13</td>\n",
       "      <td>0</td>\n",
       "      <td>2</td>\n",
       "    </tr>\n",
       "    <tr>\n",
       "      <th>13</th>\n",
       "      <td>15</td>\n",
       "      <td>0</td>\n",
       "      <td>1</td>\n",
       "    </tr>\n",
       "    <tr>\n",
       "      <th>14</th>\n",
       "      <td>16</td>\n",
       "      <td>0</td>\n",
       "      <td>1</td>\n",
       "    </tr>\n",
       "    <tr>\n",
       "      <th>15</th>\n",
       "      <td>17</td>\n",
       "      <td>0</td>\n",
       "      <td>1</td>\n",
       "    </tr>\n",
       "    <tr>\n",
       "      <th>16</th>\n",
       "      <td>18</td>\n",
       "      <td>0</td>\n",
       "      <td>1</td>\n",
       "    </tr>\n",
       "    <tr>\n",
       "      <th>17</th>\n",
       "      <td>19</td>\n",
       "      <td>0</td>\n",
       "      <td>2</td>\n",
       "    </tr>\n",
       "    <tr>\n",
       "      <th>18</th>\n",
       "      <td>20</td>\n",
       "      <td>2</td>\n",
       "      <td>2</td>\n",
       "    </tr>\n",
       "    <tr>\n",
       "      <th>19</th>\n",
       "      <td>22</td>\n",
       "      <td>0</td>\n",
       "      <td>1</td>\n",
       "    </tr>\n",
       "    <tr>\n",
       "      <th>20</th>\n",
       "      <td>23</td>\n",
       "      <td>1</td>\n",
       "      <td>2</td>\n",
       "    </tr>\n",
       "    <tr>\n",
       "      <th>21</th>\n",
       "      <td>27</td>\n",
       "      <td>0</td>\n",
       "      <td>1</td>\n",
       "    </tr>\n",
       "    <tr>\n",
       "      <th>22</th>\n",
       "      <td>41</td>\n",
       "      <td>0</td>\n",
       "      <td>1</td>\n",
       "    </tr>\n",
       "    <tr>\n",
       "      <th>23</th>\n",
       "      <td>60</td>\n",
       "      <td>0</td>\n",
       "      <td>1</td>\n",
       "    </tr>\n",
       "    <tr>\n",
       "      <th>24</th>\n",
       "      <td>62</td>\n",
       "      <td>0</td>\n",
       "      <td>1</td>\n",
       "    </tr>\n",
       "  </tbody>\n",
       "</table>\n",
       "</div>"
      ],
      "text/plain": [
       "    Sessions  n_Transactions  n_Sessions\n",
       "0          1             185        8377\n",
       "1          2             119        1119\n",
       "2          3              54         272\n",
       "3          4              19         100\n",
       "4          5              16          49\n",
       "5          6              10          23\n",
       "6          7               3          12\n",
       "7          8               0          16\n",
       "8          9               1           2\n",
       "9         10               1           5\n",
       "10        11               1           3\n",
       "11        12               3           5\n",
       "12        13               0           2\n",
       "13        15               0           1\n",
       "14        16               0           1\n",
       "15        17               0           1\n",
       "16        18               0           1\n",
       "17        19               0           2\n",
       "18        20               2           2\n",
       "19        22               0           1\n",
       "20        23               1           2\n",
       "21        27               0           1\n",
       "22        41               0           1\n",
       "23        60               0           1\n",
       "24        62               0           1"
      ]
     },
     "execution_count": 131,
     "metadata": {},
     "output_type": "execute_result"
    }
   ],
   "source": [
    "T_S"
   ]
  },
  {
   "cell_type": "code",
   "execution_count": 135,
   "id": "14f618db",
   "metadata": {},
   "outputs": [],
   "source": [
    "T_S['Precent_Purce'] = round(T_S.iloc[:,1]/ T_S.iloc[:,2],4)*100"
   ]
  },
  {
   "cell_type": "code",
   "execution_count": 160,
   "id": "83e350b2",
   "metadata": {},
   "outputs": [],
   "source": [
    "T_S['Precent_Total_seson'] = T_S.iloc[:,2]/ T_S.n_Sessions.sum()"
   ]
  },
  {
   "cell_type": "code",
   "execution_count": 137,
   "id": "aeaf43c3",
   "metadata": {},
   "outputs": [
    {
     "data": {
      "text/html": [
       "<div>\n",
       "<style scoped>\n",
       "    .dataframe tbody tr th:only-of-type {\n",
       "        vertical-align: middle;\n",
       "    }\n",
       "\n",
       "    .dataframe tbody tr th {\n",
       "        vertical-align: top;\n",
       "    }\n",
       "\n",
       "    .dataframe thead th {\n",
       "        text-align: right;\n",
       "    }\n",
       "</style>\n",
       "<table border=\"1\" class=\"dataframe\">\n",
       "  <thead>\n",
       "    <tr style=\"text-align: right;\">\n",
       "      <th></th>\n",
       "      <th>Sessions</th>\n",
       "      <th>Precent_Purce</th>\n",
       "    </tr>\n",
       "  </thead>\n",
       "  <tbody>\n",
       "    <tr>\n",
       "      <th>0</th>\n",
       "      <td>1</td>\n",
       "      <td>2.21</td>\n",
       "    </tr>\n",
       "    <tr>\n",
       "      <th>1</th>\n",
       "      <td>2</td>\n",
       "      <td>10.63</td>\n",
       "    </tr>\n",
       "    <tr>\n",
       "      <th>2</th>\n",
       "      <td>3</td>\n",
       "      <td>19.85</td>\n",
       "    </tr>\n",
       "    <tr>\n",
       "      <th>3</th>\n",
       "      <td>4</td>\n",
       "      <td>19.00</td>\n",
       "    </tr>\n",
       "    <tr>\n",
       "      <th>4</th>\n",
       "      <td>5</td>\n",
       "      <td>32.65</td>\n",
       "    </tr>\n",
       "    <tr>\n",
       "      <th>5</th>\n",
       "      <td>6</td>\n",
       "      <td>43.48</td>\n",
       "    </tr>\n",
       "    <tr>\n",
       "      <th>6</th>\n",
       "      <td>7</td>\n",
       "      <td>25.00</td>\n",
       "    </tr>\n",
       "    <tr>\n",
       "      <th>7</th>\n",
       "      <td>8</td>\n",
       "      <td>0.00</td>\n",
       "    </tr>\n",
       "    <tr>\n",
       "      <th>8</th>\n",
       "      <td>9</td>\n",
       "      <td>50.00</td>\n",
       "    </tr>\n",
       "    <tr>\n",
       "      <th>9</th>\n",
       "      <td>10</td>\n",
       "      <td>20.00</td>\n",
       "    </tr>\n",
       "    <tr>\n",
       "      <th>10</th>\n",
       "      <td>11</td>\n",
       "      <td>33.33</td>\n",
       "    </tr>\n",
       "    <tr>\n",
       "      <th>11</th>\n",
       "      <td>12</td>\n",
       "      <td>60.00</td>\n",
       "    </tr>\n",
       "    <tr>\n",
       "      <th>12</th>\n",
       "      <td>13</td>\n",
       "      <td>0.00</td>\n",
       "    </tr>\n",
       "    <tr>\n",
       "      <th>13</th>\n",
       "      <td>15</td>\n",
       "      <td>0.00</td>\n",
       "    </tr>\n",
       "    <tr>\n",
       "      <th>14</th>\n",
       "      <td>16</td>\n",
       "      <td>0.00</td>\n",
       "    </tr>\n",
       "    <tr>\n",
       "      <th>15</th>\n",
       "      <td>17</td>\n",
       "      <td>0.00</td>\n",
       "    </tr>\n",
       "    <tr>\n",
       "      <th>16</th>\n",
       "      <td>18</td>\n",
       "      <td>0.00</td>\n",
       "    </tr>\n",
       "    <tr>\n",
       "      <th>17</th>\n",
       "      <td>19</td>\n",
       "      <td>0.00</td>\n",
       "    </tr>\n",
       "    <tr>\n",
       "      <th>18</th>\n",
       "      <td>20</td>\n",
       "      <td>100.00</td>\n",
       "    </tr>\n",
       "    <tr>\n",
       "      <th>19</th>\n",
       "      <td>22</td>\n",
       "      <td>0.00</td>\n",
       "    </tr>\n",
       "    <tr>\n",
       "      <th>20</th>\n",
       "      <td>23</td>\n",
       "      <td>50.00</td>\n",
       "    </tr>\n",
       "    <tr>\n",
       "      <th>21</th>\n",
       "      <td>27</td>\n",
       "      <td>0.00</td>\n",
       "    </tr>\n",
       "    <tr>\n",
       "      <th>22</th>\n",
       "      <td>41</td>\n",
       "      <td>0.00</td>\n",
       "    </tr>\n",
       "    <tr>\n",
       "      <th>23</th>\n",
       "      <td>60</td>\n",
       "      <td>0.00</td>\n",
       "    </tr>\n",
       "    <tr>\n",
       "      <th>24</th>\n",
       "      <td>62</td>\n",
       "      <td>0.00</td>\n",
       "    </tr>\n",
       "  </tbody>\n",
       "</table>\n",
       "</div>"
      ],
      "text/plain": [
       "    Sessions  Precent_Purce\n",
       "0          1           2.21\n",
       "1          2          10.63\n",
       "2          3          19.85\n",
       "3          4          19.00\n",
       "4          5          32.65\n",
       "5          6          43.48\n",
       "6          7          25.00\n",
       "7          8           0.00\n",
       "8          9          50.00\n",
       "9         10          20.00\n",
       "10        11          33.33\n",
       "11        12          60.00\n",
       "12        13           0.00\n",
       "13        15           0.00\n",
       "14        16           0.00\n",
       "15        17           0.00\n",
       "16        18           0.00\n",
       "17        19           0.00\n",
       "18        20         100.00\n",
       "19        22           0.00\n",
       "20        23          50.00\n",
       "21        27           0.00\n",
       "22        41           0.00\n",
       "23        60           0.00\n",
       "24        62           0.00"
      ]
     },
     "execution_count": 137,
     "metadata": {},
     "output_type": "execute_result"
    }
   ],
   "source": [
    "T_S[['Sessions','Precent_Purce']]"
   ]
  },
  {
   "cell_type": "code",
   "execution_count": 164,
   "id": "ced771b0",
   "metadata": {},
   "outputs": [
    {
     "data": {
      "text/plain": [
       "Text(0, 0.5, 'Precent_Purce')"
      ]
     },
     "execution_count": 164,
     "metadata": {},
     "output_type": "execute_result"
    },
    {
     "data": {
      "image/png": "[encoded data removed]",
      "text/plain": [
       "<Figure size 936x144 with 1 Axes>"
      ]
     },
     "metadata": {
      "needs_background": "light"
     },
     "output_type": "display_data"
    }
   ],
   "source": [
    "plt.figure(figsize=(13,2))\n",
    "plt.xticks(T_S.Sessions)\n",
    "plt.bar(T_S.Sessions,T_S.Precent_Purce,align='center')\n",
    "plt.xlabel('Sessions')\n",
    "plt.ylabel('Precent_Purce')"
   ]
  },
  {
   "cell_type": "code",
   "execution_count": 168,
   "id": "61b573ef",
   "metadata": {},
   "outputs": [
    {
     "data": {
      "text/plain": [
       "Text(0, 0.5, 'Precent_Total_seson')"
      ]
     },
     "execution_count": 168,
     "metadata": {},
     "output_type": "execute_result"
    },
    {
     "data": {
      "image/png": "[encoded data removed]",
      "text/plain": [
       "<Figure size 936x144 with 1 Axes>"
      ]
     },
     "metadata": {
      "needs_background": "light"
     },
     "output_type": "display_data"
    }
   ],
   "source": [
    "plt.figure(figsize=(13,2))\n",
    "plt.xticks(T_S.Sessions)\n",
    "plt.bar(T_S.Sessions,T_S.Precent_Total_seson,align='center',color='green')\n",
    "plt.xlabel('Sessions')\n",
    "plt.ylabel('Precent_Total_seson')\n"
   ]
  },
  {
   "cell_type": "code",
   "execution_count": null,
   "id": "b89f7aa2",
   "metadata": {},
   "outputs": [],
   "source": [
    "#From this result we should Focus on Season 2 and season 3 because it convert sale. We have a lot of season one but we did \n",
    "# have many season 2, we should create ads that let season 1 user take it back and become season 2"
   ]
  },
  {
   "cell_type": "code",
   "execution_count": null,
   "id": "5895af54",
   "metadata": {},
   "outputs": [],
   "source": [
    "#Machine learning Sessions VS Transactions"
   ]
  },
  {
   "cell_type": "code",
   "execution_count": 217,
   "id": "2f42bcc7",
   "metadata": {},
   "outputs": [],
   "source": [
    "X = File.Sessions.values.reshape(-1, 1)\n",
    "y = File.Transactions.values.reshape(-1, 1)"
   ]
  },
  {
   "cell_type": "code",
   "execution_count": 218,
   "id": "4da5828a",
   "metadata": {},
   "outputs": [],
   "source": [
    "X_train, X_test, y_train, y_test = train_test_split(X, y, test_size = 0.2, random_state=42, stratify=y)"
   ]
  },
  {
   "cell_type": "code",
   "execution_count": 219,
   "id": "0b43e059",
   "metadata": {},
   "outputs": [],
   "source": [
    "knn = KNeighborsClassifier(n_neighbors = 5)"
   ]
  },
  {
   "cell_type": "code",
   "execution_count": 227,
   "id": "71eb4a80",
   "metadata": {},
   "outputs": [
    {
     "data": {
      "text/plain": [
       "KNeighborsClassifier()"
      ]
     },
     "execution_count": 227,
     "metadata": {},
     "output_type": "execute_result"
    }
   ],
   "source": [
    "knn.fit(X_train,y_train.ravel())"
   ]
  },
  {
   "cell_type": "code",
   "execution_count": 228,
   "id": "b6fab803",
   "metadata": {},
   "outputs": [
    {
     "name": "stdout",
     "output_type": "stream",
     "text": [
      "0.958\n"
     ]
    }
   ],
   "source": [
    "print(knn.score(X_test, y_test))"
   ]
  },
  {
   "cell_type": "code",
   "execution_count": null,
   "id": "eef95d82",
   "metadata": {},
   "outputs": [],
   "source": [
    "#There is very good score "
   ]
  },
  {
   "cell_type": "code",
   "execution_count": 230,
   "id": "841f7775",
   "metadata": {},
   "outputs": [],
   "source": [
    "reg_all = LinearRegression()"
   ]
  },
  {
   "cell_type": "code",
   "execution_count": 231,
   "id": "4a232306",
   "metadata": {},
   "outputs": [
    {
     "data": {
      "text/plain": [
       "LinearRegression()"
      ]
     },
     "execution_count": 231,
     "metadata": {},
     "output_type": "execute_result"
    }
   ],
   "source": [
    "reg_all.fit(X_train,y_train)"
   ]
  },
  {
   "cell_type": "code",
   "execution_count": 232,
   "id": "b13a13d1",
   "metadata": {},
   "outputs": [],
   "source": [
    "y_pred = reg_all.predict(X_test)"
   ]
  },
  {
   "cell_type": "code",
   "execution_count": 234,
   "id": "271bec5a",
   "metadata": {},
   "outputs": [
    {
     "name": "stdout",
     "output_type": "stream",
     "text": [
      "R^2: -0.0004156878523304819\n",
      "Root Mean Squared Error: 0.20331299960005125\n"
     ]
    }
   ],
   "source": [
    "print(\"R^2: {}\".format(reg_all.score(X_test, y_test)))\n",
    "rmse = np.sqrt(mean_squared_error(y_test, y_pred))\n",
    "print(\"Root Mean Squared Error: {}\".format(rmse))"
   ]
  },
  {
   "cell_type": "code",
   "execution_count": 246,
   "id": "c304dd54",
   "metadata": {},
   "outputs": [],
   "source": [
    "regr = linear_model.LinearRegression()"
   ]
  },
  {
   "cell_type": "code",
   "execution_count": 247,
   "id": "9ee0a140",
   "metadata": {},
   "outputs": [
    {
     "data": {
      "text/plain": [
       "LinearRegression()"
      ]
     },
     "execution_count": 247,
     "metadata": {},
     "output_type": "execute_result"
    }
   ],
   "source": [
    "regr.fit(X_train, y_train)"
   ]
  },
  {
   "cell_type": "code",
   "execution_count": 248,
   "id": "a28a2430",
   "metadata": {},
   "outputs": [],
   "source": [
    "diabetes_y_pred = regr.predict(X_test)"
   ]
  },
  {
   "cell_type": "code",
   "execution_count": 252,
   "id": "c29fb095",
   "metadata": {},
   "outputs": [
    {
     "data": {
      "text/plain": [
       "Text(0, 0.5, 'Transactions')"
      ]
     },
     "execution_count": 252,
     "metadata": {},
     "output_type": "execute_result"
    },
    {
     "data": {
      "image/png": "[encoded data removed]",
      "text/plain": [
       "<Figure size 432x288 with 1 Axes>"
      ]
     },
     "metadata": {
      "needs_background": "light"
     },
     "output_type": "display_data"
    }
   ],
   "source": [
    "plt.scatter(X_test, y_test,  color='black')\n",
    "plt.xlabel('Sessions')\n",
    "plt.ylabel('Transactions')\n",
    "\n"
   ]
  },
  {
   "cell_type": "code",
   "execution_count": null,
   "id": "572493e4",
   "metadata": {},
   "outputs": [],
   "source": [
    "#From this Graphic we know After seassion 10 We would not have any Transcation at all"
   ]
  }
 ],
 "metadata": {
  "kernelspec": {
   "display_name": "Python 3",
   "language": "python",
   "name": "python3"
  },
  "language_info": {
   "codemirror_mode": {
    "name": "ipython",
    "version": 3
   },
   "file_extension": ".py",
   "mimetype": "text/x-python",
   "name": "python",
   "nbconvert_exporter": "python",
   "pygments_lexer": "ipython3",
   "version": "3.8.8"
  }
 },
 "nbformat": 4,
 "nbformat_minor": 5
}
